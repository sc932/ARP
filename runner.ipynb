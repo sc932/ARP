{
 "cells": [
  {
   "cell_type": "code",
   "execution_count": 1,
   "id": "7190b5c9-4812-42fc-8bbe-95b5c899f97d",
   "metadata": {},
   "outputs": [],
   "source": [
    "# SETUP --- DO NOT TOUCH\n",
    "\n",
    "import argparse\n",
    "import scorer\n",
    "from basis_space import UpDownBasisSpace, UpMidDownBasisSpace\n",
    "\n",
    "import logging\n",
    "\n",
    "logging.basicConfig(\n",
    "    level=logging.INFO,\n",
    "    format=\"%(asctime)s [%(levelname)s] %(message)s\",\n",
    "    handlers=[\n",
    "        logging.StreamHandler()\n",
    "    ]\n",
    ")"
   ]
  },
  {
   "cell_type": "code",
   "execution_count": null,
   "id": "7fdad03e-1ae1-457c-946e-518e47951692",
   "metadata": {},
   "outputs": [],
   "source": [
    "# VALUES TO CHANGE\n",
    "\n",
    "p_thresh = 0.05\n",
    "yml_file = \"example.yml\"\n",
    "output = \"example_output\"\n",
    "basis = UpMidDownBasisSpace()\n",
    "\n",
    "# RUN ANALYSIS --- DO NOT TOUCH\n",
    "\n",
    "scorer_obj = scorer.Scorer(yml_file, basis)\n",
    "scorer.combiner(yml_file, basis, p_thresh=p_thresh, scorer=scorer_obj, output=output)\n"
   ]
  }
 ],
 "metadata": {
  "kernelspec": {
   "display_name": "Python 3 (ipykernel)",
   "language": "python",
   "name": "python3"
  },
  "language_info": {
   "codemirror_mode": {
    "name": "ipython",
    "version": 3
   },
   "file_extension": ".py",
   "mimetype": "text/x-python",
   "name": "python",
   "nbconvert_exporter": "python",
   "pygments_lexer": "ipython3",
   "version": "3.11.3"
  }
 },
 "nbformat": 4,
 "nbformat_minor": 5
}
